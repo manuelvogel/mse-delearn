{
 "cells": [
  {
   "cell_type": "markdown",
   "id": "d36d2eca",
   "metadata": {},
   "source": [
    "# PW03 - Group 4\n",
    "* Florian Bär\n",
    "* Matthias Egli\n",
    "* Manuel Vogel\n",
    "* Adrian Willi"
   ]
  },
  {
   "cell_type": "code",
   "execution_count": 1,
   "id": "07ec37d7-f7cb-4646-a2dd-9dab66239a30",
   "metadata": {},
   "outputs": [],
   "source": [
    "import torch\n",
    "from torch.utils.data import DataLoader, random_split\n",
    "from torchvision import datasets\n",
    "from torchvision.transforms import ToTensor\n",
    "from torchsummary import summary\n",
    "import numpy as np\n",
    "import matplotlib.pyplot as plt"
   ]
  },
  {
   "cell_type": "markdown",
   "id": "e2d8a986-1cb2-483b-9bd8-0f71d69fa9e8",
   "metadata": {},
   "source": [
    "### Loading Data\n",
    "\n",
    "Load train and test partition of the MNIST dataset.\n",
    "\n",
    "Prepare the training by splitting the training partition into a training and validation."
   ]
  },
  {
   "cell_type": "code",
   "execution_count": 2,
   "id": "4ba6b0c6-3f55-40dd-ba32-6f6aad8f1437",
   "metadata": {
    "scrolled": true
   },
   "outputs": [],
   "source": [
    "training_data = datasets.MNIST(root=\"data\", train=True, download=True, transform=ToTensor())\n",
    "test_data = datasets.MNIST(root=\"data\", train=False, download=True, transform=ToTensor())"
   ]
  },
  {
   "cell_type": "code",
   "execution_count": 3,
   "id": "755433e2",
   "metadata": {},
   "outputs": [
    {
     "data": {
      "text/plain": [
       "60000"
      ]
     },
     "execution_count": 3,
     "metadata": {},
     "output_type": "execute_result"
    }
   ],
   "source": [
    "len_data = len(training_data)\n",
    "len_data"
   ]
  },
  {
   "cell_type": "code",
   "execution_count": 4,
   "id": "e20431bb-1ece-49f5-a5f6-414a48dcc347",
   "metadata": {},
   "outputs": [],
   "source": [
    "# Partition into train and validate\n",
    "\n",
    "### YOUR CODE START ###\n",
    "train_size = int(len_data*0.8)\n",
    "test_size = len_data-train_size\n",
    "\n",
    "training_set, validation_set = random_split(training_data,[train_size,test_size ])\n",
    "\n",
    "### YOUR CODE END ###"
   ]
  },
  {
   "cell_type": "markdown",
   "id": "375ff404-5b8a-4f63-9730-d6708d2ac8d1",
   "metadata": {},
   "source": [
    "### MLP\n",
    "\n",
    "Implement an MLP model that can be configured with a an arbitrary number of layers and units per layer.\n",
    "\n",
    "To that end, implement a suitable sub-class of `torch.nn.Module` with a constructor that accepts the following arguments:\n",
    "* `units`: list of integers that specify the number of units in the different layers. The first element corresponds to the number of units in the input layer (layer '0'), the last element is the number of output units, i.e. the number of classes the classifier is designed for (10 for an MNIST classifier). Hence, MLP will have $n$ hidden layers if `units` has $n+1$ elements. \n",
    "* `activation_class`: Class name of the activation function layer to be used (such as `torch.nn.ReLU`). Instances can be created by `activation_class()` and added to the succession of layers defined by the model. \n",
    "\n",
    "Alternatively, you can implement a utility method that creates a `torch.nn.Sequential` model accordingly. \n"
   ]
  },
  {
   "cell_type": "code",
   "execution_count": 5,
   "id": "8e55861c-e424-45b4-845a-48dd576d7ab8",
   "metadata": {},
   "outputs": [],
   "source": [
    "### YOUR CODE START ###\n",
    "\n",
    "class MLP(torch.nn.Module):\n",
    "    \n",
    "    def __init__(self, units, activation_class = None):\n",
    "        super().__init__()\n",
    "        self.layers = []\n",
    "        for i in range(len(units)-2):\n",
    "            self.layers.append(torch.nn.Linear(units[i], units[i+1]))\n",
    "            self.layers.append(torch.nn.ReLU())\n",
    "        self.layers.append(torch.nn.Linear(units[len(units)-2], units[len(units)-1]))\n",
    "        print([layer for layer in self.layers])\n",
    "        self.layers = torch.nn.Sequential(\n",
    "            torch.nn.Flatten(),\n",
    "            *self.layers\n",
    "        )\n",
    "        \n",
    "    def forward(self, x):\n",
    "        for layer in self.layers:\n",
    "            x = layer(x)\n",
    "        return x\n",
    "### YOUR CODE END ###"
   ]
  },
  {
   "cell_type": "code",
   "execution_count": 6,
   "id": "abb0e103",
   "metadata": {},
   "outputs": [
    {
     "name": "stdout",
     "output_type": "stream",
     "text": [
      "[Linear(in_features=784, out_features=300, bias=True), ReLU(), Linear(in_features=300, out_features=100, bias=True), ReLU(), Linear(in_features=100, out_features=10, bias=True)]\n",
      "----------------------------------------------------------------\n",
      "        Layer (type)               Output Shape         Param #\n",
      "================================================================\n",
      "           Flatten-1                  [-1, 784]               0\n",
      "            Linear-2                  [-1, 300]         235,500\n",
      "              ReLU-3                  [-1, 300]               0\n",
      "            Linear-4                  [-1, 100]          30,100\n",
      "              ReLU-5                  [-1, 100]               0\n",
      "            Linear-6                   [-1, 10]           1,010\n",
      "================================================================\n",
      "Total params: 266,610\n",
      "Trainable params: 266,610\n",
      "Non-trainable params: 0\n",
      "----------------------------------------------------------------\n",
      "Input size (MB): 0.00\n",
      "Forward/backward pass size (MB): 0.01\n",
      "Params size (MB): 1.02\n",
      "Estimated Total Size (MB): 1.03\n",
      "----------------------------------------------------------------\n"
     ]
    }
   ],
   "source": [
    "model = MLP([28*28,300, 100, 10], torch.nn.ReLU)\n",
    "\n",
    "summary(model, (1,28,28))"
   ]
  },
  {
   "cell_type": "markdown",
   "id": "6ff38adb-7cad-4eee-b6ed-34c0e0fd3d07",
   "metadata": {},
   "source": [
    "### Training Loop\n",
    "\n",
    "For training, implement a method with the arguments:\n",
    "* `model`: Model to be trained\n",
    "* `lr`: Learning rate\n",
    "* `nepochs`: Number of epochs\n",
    "* `batchsize`: Batch size\n",
    "* `training_data`: Training set (subclassed of `Dataset`)\n",
    "* `validation_data`: Validation set (subclassed of `Dataset`)\n",
    "\n",
    "Remember the training and validation cost and accuracy, respectively for monitoring the progress of the training. <br>\n",
    "Note that for the training cost and accuracy you can use the per batch quantities averaged over an epoch. \n",
    "\n",
    "Furthermore, you can use the SGD optimizer of pytorch (`torch.optim.SGD`) - but without momentum."
   ]
  },
  {
   "cell_type": "code",
   "execution_count": 7,
   "id": "172c91d1-4c9e-413a-bfff-01f51a1e323a",
   "metadata": {},
   "outputs": [],
   "source": [
    "def train_eval(model, lr, nepochs, nbatch, training_set, validation_set):\n",
    "    # finally return the sequence of per epoch values\n",
    "    cost_hist = []\n",
    "    cost_hist_valid = []\n",
    "    acc_hist = []\n",
    "    acc_hist_valid = []\n",
    "\n",
    "    cost_ce = torch.nn.CrossEntropyLoss()\n",
    "    optimizer = torch.optim.SGD(model.parameters(), lr=lr)\n",
    "\n",
    "    ### YOUR CODE START ###\n",
    "    \n",
    "    # epoch: current epoch\n",
    "    # cost, cost_valid, acc, acc_valid: cost and acurracy (for training, validation set) per epoch     \n",
    "    \n",
    "    training_loader = DataLoader(training_set, batch_size=nbatch)\n",
    "    validation_loader = DataLoader(validation_set, batch_size=nbatch)\n",
    "    \n",
    "    for epoch in range(nepochs):\n",
    "\n",
    "        training_cost = 0\n",
    "        correct = 0\n",
    "        for inputs, targets in training_loader:\n",
    "            optimizer.zero_grad()\n",
    "            predictions = model(inputs)\n",
    "            cost = cost_ce(predictions, targets)\n",
    "            cost.backward()\n",
    "            optimizer.step()\n",
    "            training_cost += cost.item()\n",
    "            correct += (torch.argmax(predictions, dim=1) == targets).sum()\n",
    "        \n",
    "        cost = training_cost / len(training_set)\n",
    "        acc = correct / len(training_set)\n",
    "\n",
    "        validation_cost = 0\n",
    "        correct = 0\n",
    "        for inputs, targets in validation_loader:\n",
    "            predictions = model(inputs)\n",
    "            cost = cost_ce(predictions, targets)\n",
    "            validation_cost += cost.item()\n",
    "            correct += (torch.argmax(predictions, dim=1) == targets).sum()\n",
    "\n",
    "        cost_valid = validation_cost / len(validation_set)\n",
    "        acc_valid = correct / len(validation_set)\n",
    "        \n",
    "        print(\"Epoch %i: %f, %f, %f, %f\"%(epoch, cost, acc, cost_valid, acc_valid))\n",
    "\n",
    "        ### YOUR CODE END ###\n",
    "        \n",
    "        cost_hist.append(cost.data)\n",
    "        cost_hist_valid.append(cost_valid)\n",
    "        acc_hist.append(acc)\n",
    "        acc_hist_valid.append(acc_valid)\n",
    "    return cost_hist, cost_hist_valid, acc_hist, acc_hist_valid"
   ]
  },
  {
   "cell_type": "markdown",
   "id": "e9b84285-bbd4-4a65-8b8c-1a535f680fff",
   "metadata": {
    "tags": []
   },
   "source": [
    "### Exploration\n",
    "\n",
    "Now use this functionality to explore different layer configurations: \n",
    "* Number of layers\n",
    "* Number of units per layer\n",
    "* Suitable learning rate\n",
    "* Suitable number of epochs.\n",
    "\n",
    "Use a batchsize of 64.\n",
    "\n",
    "Make sure that you choose a sufficinetly large number of epochs so that the learning has more or less stabilizes (converged). "
   ]
  },
  {
   "cell_type": "code",
   "execution_count": 8,
   "id": "336111b0",
   "metadata": {},
   "outputs": [
    {
     "name": "stdout",
     "output_type": "stream",
     "text": [
      "[Linear(in_features=784, out_features=10, bias=True), ReLU(), Linear(in_features=10, out_features=10, bias=True)]\n",
      "Epoch 0: 1.757027, 0.300521, 0.026976, 0.550917\n",
      "Epoch 1: 0.978262, 0.669500, 0.015861, 0.751000\n",
      "Epoch 2: 0.698996, 0.777125, 0.011761, 0.802417\n",
      "Epoch 3: 0.562771, 0.816437, 0.009768, 0.832917\n",
      "Epoch 4: 0.479396, 0.839521, 0.008544, 0.850917\n",
      "Epoch 5: 0.423839, 0.853604, 0.007760, 0.862500\n",
      "Epoch 6: 0.385600, 0.863271, 0.007235, 0.871333\n",
      "Epoch 7: 0.357817, 0.870938, 0.006864, 0.877083\n",
      "Epoch 8: 0.336058, 0.876729, 0.006587, 0.881083\n",
      "Epoch 9: 0.318135, 0.880813, 0.006370, 0.883917\n",
      "Epoch 10: 0.303113, 0.884917, 0.006195, 0.887917\n",
      "Epoch 11: 0.289722, 0.888125, 0.006049, 0.890417\n",
      "Epoch 12: 0.277736, 0.890333, 0.005925, 0.893667\n",
      "Epoch 13: 0.266421, 0.892979, 0.005817, 0.896667\n",
      "Epoch 14: 0.256439, 0.894792, 0.005722, 0.897583\n",
      "Epoch 15: 0.247577, 0.896333, 0.005638, 0.898417\n",
      "Epoch 16: 0.239628, 0.897937, 0.005563, 0.899750\n",
      "Epoch 17: 0.232242, 0.899063, 0.005495, 0.901333\n",
      "Epoch 18: 0.225619, 0.900625, 0.005433, 0.902583\n",
      "Epoch 19: 0.219500, 0.901688, 0.005376, 0.904167\n",
      "train_accuracy 0.901687502861023, val_accuracy 0.9041666388511658\n"
     ]
    },
    {
     "data": {
      "image/png": "[encoded data removed]",
      "text/plain": [
       "<Figure size 432x288 with 1 Axes>"
      ]
     },
     "metadata": {
      "needs_background": "light"
     },
     "output_type": "display_data"
    }
   ],
   "source": [
    "model = MLP([28*28,10, 10])\n",
    "epochs = 20\n",
    "lr = 0.005\n",
    "batch_size = 64\n",
    "_,_, train_acc, val_acc = train_eval(model, lr, epochs, batch_size, training_set, validation_set)\n",
    "print(f'train_accuracy {train_acc[-1]}, val_accuracy {val_acc[-1]}')\n",
    "\n",
    "\n",
    "plt.plot(train_acc, 'r', label='Training loss')\n",
    "plt.plot(val_acc, 'b', label='Validation loss')\n",
    "plt.title('Training and Validation loss')\n",
    "plt.xlabel('Epochs')\n",
    "plt.ylabel('Accuracy')\n",
    "plt.legend()\n",
    "plt.show()"
   ]
  },
  {
   "cell_type": "code",
   "execution_count": 9,
   "id": "704f7a3c",
   "metadata": {},
   "outputs": [
    {
     "name": "stdout",
     "output_type": "stream",
     "text": [
      "[Linear(in_features=784, out_features=300, bias=True), ReLU(), Linear(in_features=300, out_features=100, bias=True), ReLU(), Linear(in_features=100, out_features=10, bias=True)]\n",
      "Epoch 0: 0.196113, 0.804292, 0.005216, 0.904917\n",
      "Epoch 1: 0.103797, 0.914896, 0.003944, 0.928667\n",
      "Epoch 2: 0.066576, 0.935750, 0.003136, 0.945250\n",
      "Epoch 3: 0.043087, 0.949000, 0.002609, 0.954417\n",
      "Epoch 4: 0.034451, 0.957187, 0.002269, 0.959917\n",
      "Epoch 5: 0.029469, 0.964188, 0.002027, 0.963917\n",
      "Epoch 6: 0.027474, 0.969604, 0.001854, 0.967167\n",
      "Epoch 7: 0.025282, 0.973437, 0.001719, 0.969500\n",
      "Epoch 8: 0.023091, 0.976771, 0.001615, 0.971083\n",
      "Epoch 9: 0.021426, 0.979958, 0.001527, 0.973750\n",
      "Epoch 10: 0.019480, 0.982063, 0.001461, 0.973833\n",
      "Epoch 11: 0.017992, 0.984688, 0.001404, 0.974667\n",
      "Epoch 12: 0.016261, 0.986917, 0.001365, 0.975833\n",
      "Epoch 13: 0.015978, 0.989042, 0.001334, 0.976167\n",
      "Epoch 14: 0.015180, 0.990729, 0.001311, 0.976250\n",
      "Epoch 15: 0.014298, 0.992229, 0.001293, 0.976250\n",
      "Epoch 16: 0.014304, 0.993521, 0.001282, 0.976667\n",
      "Epoch 17: 0.012938, 0.994542, 0.001267, 0.976917\n",
      "Epoch 18: 0.012880, 0.995771, 0.001258, 0.977333\n",
      "Epoch 19: 0.012736, 0.996396, 0.001248, 0.977583\n",
      "Epoch 20: 0.011549, 0.997083, 0.001242, 0.978000\n",
      "Epoch 21: 0.011401, 0.997688, 0.001238, 0.978250\n",
      "Epoch 22: 0.010751, 0.998146, 0.001232, 0.978833\n",
      "Epoch 23: 0.010051, 0.998542, 0.001231, 0.979000\n",
      "Epoch 24: 0.009239, 0.998771, 0.001227, 0.979083\n",
      "Epoch 25: 0.008483, 0.998937, 0.001228, 0.979167\n",
      "Epoch 26: 0.007991, 0.999167, 0.001231, 0.979417\n",
      "Epoch 27: 0.007568, 0.999292, 0.001231, 0.979500\n",
      "Epoch 28: 0.007146, 0.999458, 0.001237, 0.979500\n",
      "Epoch 29: 0.006543, 0.999521, 0.001238, 0.979583\n",
      "train_accuracy 0.9995208382606506, val_accuracy 0.9795833230018616\n"
     ]
    },
    {
     "data": {
      "image/png": "[encoded data removed]",
      "text/plain": [
       "<Figure size 432x288 with 1 Axes>"
      ]
     },
     "metadata": {
      "needs_background": "light"
     },
     "output_type": "display_data"
    }
   ],
   "source": [
    "model = MLP([28*28, 300, 100, 10])\n",
    "epochs = 30\n",
    "lr = 0.05\n",
    "batch_size = 64\n",
    "\n",
    "_,_, train_acc, val_acc = train_eval(model, lr, epochs, batch_size, training_set, validation_set)\n",
    "print(f'train_accuracy {train_acc[-1]}, val_accuracy {val_acc[-1]}')\n",
    "\n",
    "plt.plot(train_acc, 'r', label='Training loss')\n",
    "plt.plot(val_acc, 'b', label='Validation loss')\n",
    "plt.title('Training and Validation loss')\n",
    "plt.xlabel('Epochs')\n",
    "plt.ylabel('Accuracy')\n",
    "plt.legend()\n",
    "plt.show()"
   ]
  },
  {
   "cell_type": "code",
   "execution_count": 10,
   "id": "79e02a51",
   "metadata": {},
   "outputs": [
    {
     "name": "stdout",
     "output_type": "stream",
     "text": [
      "[Linear(in_features=784, out_features=500, bias=True), ReLU(), Linear(in_features=500, out_features=300, bias=True), ReLU(), Linear(in_features=300, out_features=100, bias=True), ReLU(), Linear(in_features=100, out_features=10, bias=True)]\n",
      "Epoch 0: 0.233672, 0.713583, 0.005623, 0.898250\n",
      "Epoch 1: 0.101986, 0.911646, 0.003867, 0.931583\n",
      "Epoch 2: 0.049216, 0.940188, 0.002756, 0.949750\n",
      "Epoch 3: 0.032252, 0.956125, 0.002208, 0.960250\n",
      "Epoch 4: 0.026109, 0.966208, 0.001908, 0.965167\n",
      "Epoch 5: 0.021483, 0.973188, 0.001709, 0.968417\n",
      "Epoch 6: 0.016757, 0.978625, 0.001575, 0.970667\n",
      "Epoch 7: 0.012739, 0.982396, 0.001483, 0.972333\n",
      "Epoch 8: 0.010403, 0.985563, 0.001416, 0.974417\n",
      "Epoch 9: 0.008302, 0.988979, 0.001376, 0.974167\n",
      "Epoch 10: 0.006145, 0.991188, 0.001349, 0.974917\n",
      "Epoch 11: 0.005741, 0.993312, 0.001331, 0.975750\n",
      "Epoch 12: 0.005050, 0.995188, 0.001326, 0.976750\n",
      "Epoch 13: 0.004269, 0.996625, 0.001320, 0.977833\n",
      "Epoch 14: 0.003859, 0.997542, 0.001316, 0.978500\n",
      "Epoch 15: 0.003576, 0.998333, 0.001325, 0.978250\n",
      "Epoch 16: 0.003278, 0.999062, 0.001330, 0.978917\n",
      "Epoch 17: 0.002694, 0.999292, 0.001338, 0.978750\n",
      "Epoch 18: 0.002705, 0.999438, 0.001350, 0.979000\n",
      "Epoch 19: 0.002224, 0.999708, 0.001345, 0.979500\n",
      "Epoch 20: 0.002170, 0.999875, 0.001349, 0.979667\n",
      "Epoch 21: 0.001874, 0.999917, 0.001356, 0.979667\n",
      "Epoch 22: 0.001635, 0.999958, 0.001364, 0.979917\n",
      "Epoch 23: 0.001416, 1.000000, 0.001370, 0.980167\n",
      "Epoch 24: 0.001256, 1.000000, 0.001378, 0.980250\n",
      "Epoch 25: 0.001174, 1.000000, 0.001388, 0.980417\n",
      "Epoch 26: 0.001080, 1.000000, 0.001396, 0.981000\n",
      "Epoch 27: 0.000991, 1.000000, 0.001407, 0.981000\n",
      "Epoch 28: 0.000950, 1.000000, 0.001416, 0.981250\n",
      "Epoch 29: 0.000919, 1.000000, 0.001423, 0.981333\n",
      "train_accuracy 1.0, val_accuracy 0.981333315372467\n"
     ]
    },
    {
     "data": {
      "image/png": "[encoded data removed]",
      "text/plain": [
       "<Figure size 432x288 with 1 Axes>"
      ]
     },
     "metadata": {
      "needs_background": "light"
     },
     "output_type": "display_data"
    }
   ],
   "source": [
    "model = MLP([28*28, 500, 300, 100, 10])\n",
    "epochs = 30\n",
    "lr = 0.05\n",
    "batch_size = 64\n",
    "\n",
    "_,_, train_acc, val_acc = train_eval(model, lr, epochs, batch_size, training_set, validation_set)\n",
    "print(f'train_accuracy {train_acc[-1]}, val_accuracy {val_acc[-1]}')\n",
    "\n",
    "plt.plot(train_acc, 'r', label='Training loss')\n",
    "plt.plot(val_acc, 'b', label='Validation loss')\n",
    "plt.title('Training and Validation loss')\n",
    "plt.xlabel('Epochs')\n",
    "plt.ylabel('Accuracy')\n",
    "plt.legend()\n",
    "plt.show()"
   ]
  },
  {
   "cell_type": "code",
   "execution_count": 11,
   "id": "475ef113",
   "metadata": {},
   "outputs": [
    {
     "name": "stdout",
     "output_type": "stream",
     "text": [
      "[Linear(in_features=784, out_features=100, bias=True), ReLU(), Linear(in_features=100, out_features=500, bias=True), ReLU(), Linear(in_features=500, out_features=10, bias=True)]\n",
      "Epoch 0: 0.196945, 0.818583, 0.004989, 0.908417\n",
      "Epoch 1: 0.123900, 0.916500, 0.003962, 0.929750\n",
      "Epoch 2: 0.104687, 0.932667, 0.003277, 0.942167\n",
      "Epoch 3: 0.084131, 0.944792, 0.002782, 0.950333\n",
      "Epoch 4: 0.071757, 0.953833, 0.002423, 0.956250\n",
      "Epoch 5: 0.066791, 0.961000, 0.002165, 0.960000\n",
      "Epoch 6: 0.061000, 0.966354, 0.001979, 0.963667\n",
      "Epoch 7: 0.055651, 0.971313, 0.001841, 0.967333\n",
      "Epoch 8: 0.050363, 0.974854, 0.001734, 0.969000\n",
      "Epoch 9: 0.047595, 0.977667, 0.001646, 0.971500\n",
      "train_accuracy 0.9776666760444641, val_accuracy 0.9714999794960022\n"
     ]
    },
    {
     "data": {
      "image/png": "[encoded data removed]",
      "text/plain": [
       "<Figure size 432x288 with 1 Axes>"
      ]
     },
     "metadata": {
      "needs_background": "light"
     },
     "output_type": "display_data"
    }
   ],
   "source": [
    "model = MLP([28*28, 100, 500, 10])\n",
    "epochs = 10\n",
    "lr = 0.05\n",
    "batch_size = 64\n",
    "\n",
    "_,_, train_acc, val_acc = train_eval(model, lr, epochs, batch_size, training_set, validation_set)\n",
    "print(f'train_accuracy {train_acc[-1]}, val_accuracy {val_acc[-1]}')\n",
    "\n",
    "plt.plot(train_acc, 'r', label='Training loss')\n",
    "plt.plot(val_acc, 'b', label='Validation loss')\n",
    "plt.title('Training and Validation loss')\n",
    "plt.xlabel('Epochs')\n",
    "plt.ylabel('Accuracy')\n",
    "plt.legend()\n",
    "plt.show()"
   ]
  },
  {
   "cell_type": "code",
   "execution_count": 12,
   "id": "b13b4926",
   "metadata": {},
   "outputs": [
    {
     "name": "stdout",
     "output_type": "stream",
     "text": [
      "[Linear(in_features=784, out_features=100, bias=True), ReLU(), Linear(in_features=100, out_features=500, bias=True), ReLU(), Linear(in_features=500, out_features=10, bias=True)]\n",
      "Epoch 0: 0.168602, 0.818250, 0.004938, 0.909250\n",
      "Epoch 1: 0.105739, 0.917313, 0.003856, 0.931667\n",
      "Epoch 2: 0.077903, 0.936188, 0.003185, 0.944917\n",
      "Epoch 3: 0.064013, 0.947521, 0.002738, 0.950750\n",
      "Epoch 4: 0.057630, 0.955312, 0.002415, 0.956583\n",
      "Epoch 5: 0.054276, 0.961812, 0.002173, 0.960417\n",
      "Epoch 6: 0.051280, 0.967438, 0.001985, 0.964000\n",
      "Epoch 7: 0.047766, 0.971875, 0.001849, 0.967417\n",
      "Epoch 8: 0.046505, 0.975396, 0.001750, 0.968667\n",
      "Epoch 9: 0.045038, 0.977917, 0.001672, 0.969750\n",
      "Epoch 10: 0.041251, 0.979937, 0.001612, 0.971167\n",
      "Epoch 11: 0.040521, 0.982417, 0.001565, 0.971667\n",
      "Epoch 12: 0.037669, 0.984146, 0.001537, 0.971583\n",
      "Epoch 13: 0.036375, 0.986083, 0.001514, 0.972417\n",
      "Epoch 14: 0.034006, 0.987458, 0.001499, 0.973083\n",
      "Epoch 15: 0.030679, 0.988792, 0.001491, 0.973333\n",
      "Epoch 16: 0.029485, 0.990167, 0.001480, 0.973333\n",
      "Epoch 17: 0.029043, 0.991167, 0.001482, 0.973250\n",
      "Epoch 18: 0.027673, 0.992271, 0.001480, 0.973250\n",
      "Epoch 19: 0.026687, 0.993479, 0.001475, 0.973750\n",
      "train_accuracy 0.9934791922569275, val_accuracy 0.9737499952316284\n"
     ]
    },
    {
     "data": {
      "image/png": "[encoded data removed]",
      "text/plain": [
       "<Figure size 432x288 with 1 Axes>"
      ]
     },
     "metadata": {
      "needs_background": "light"
     },
     "output_type": "display_data"
    }
   ],
   "source": [
    "model = MLP([28*28, 100, 500, 10])\n",
    "epochs = 20\n",
    "lr = 0.05\n",
    "batch_size = 64\n",
    "\n",
    "_,_, train_acc, val_acc = train_eval(model, lr, epochs, batch_size, training_set, validation_set)\n",
    "print(f'train_accuracy {train_acc[-1]}, val_accuracy {val_acc[-1]}')\n",
    "\n",
    "plt.plot(train_acc, 'r', label='Training loss')\n",
    "plt.plot(val_acc, 'b', label='Validation loss')\n",
    "plt.title('Training and Validation loss')\n",
    "plt.xlabel('Epochs')\n",
    "plt.ylabel('Accuracy')\n",
    "plt.legend()\n",
    "plt.show()"
   ]
  },
  {
   "cell_type": "code",
   "execution_count": 13,
   "id": "91e3d0a7",
   "metadata": {},
   "outputs": [
    {
     "name": "stdout",
     "output_type": "stream",
     "text": [
      "[Linear(in_features=784, out_features=100, bias=True), ReLU(), Linear(in_features=100, out_features=50, bias=True), ReLU(), Linear(in_features=50, out_features=10, bias=True)]\n",
      "Epoch 0: 0.232997, 0.787875, 0.005425, 0.900250\n",
      "Epoch 1: 0.136152, 0.910792, 0.004238, 0.923417\n",
      "Epoch 2: 0.086478, 0.930083, 0.003433, 0.939917\n",
      "Epoch 3: 0.059136, 0.943333, 0.002873, 0.949417\n",
      "Epoch 4: 0.045253, 0.951937, 0.002504, 0.955417\n",
      "Epoch 5: 0.038518, 0.958562, 0.002260, 0.960750\n",
      "Epoch 6: 0.033318, 0.963958, 0.002089, 0.963833\n",
      "Epoch 7: 0.030897, 0.969000, 0.001951, 0.965500\n",
      "Epoch 8: 0.028953, 0.972229, 0.001842, 0.967333\n",
      "Epoch 9: 0.026181, 0.975146, 0.001755, 0.969333\n",
      "train_accuracy 0.9751458168029785, val_accuracy 0.9693333506584167\n"
     ]
    },
    {
     "data": {
      "image/png": "[encoded data removed]",
      "text/plain": [
       "<Figure size 432x288 with 1 Axes>"
      ]
     },
     "metadata": {
      "needs_background": "light"
     },
     "output_type": "display_data"
    }
   ],
   "source": [
    "model = MLP([28*28, 100, 50, 10])\n",
    "epochs = 10\n",
    "lr = 0.05\n",
    "batch_size = 64\n",
    "\n",
    "_,_, train_acc, val_acc = train_eval(model, lr, epochs, batch_size, training_set, validation_set)\n",
    "print(f'train_accuracy {train_acc[-1]}, val_accuracy {val_acc[-1]}')\n",
    "\n",
    "plt.plot(train_acc, 'r', label='Training loss')\n",
    "plt.plot(val_acc, 'b', label='Validation loss')\n",
    "plt.title('Training and Validation loss')\n",
    "plt.xlabel('Epochs')\n",
    "plt.ylabel('Accuracy')\n",
    "plt.legend()\n",
    "plt.show()"
   ]
  },
  {
   "cell_type": "markdown",
   "id": "b61c19f6-694f-4447-8ca3-79ef2f8daade",
   "metadata": {},
   "source": [
    "### Summary\n",
    "\n",
    "Summarize your findings with the different settings in a table\n",
    "\n",
    "| Units | nepochs | lr | Acc (Train) | Acc (Valid) |\n",
    "| --- | :-: | :-: | :-: | :-: |\n",
    "| (784,10,10) | 20 | 0.5 | 94.1% | 93.4% |\n",
    "| (784,300,100,10) | 10 | 0.05 | 99.9% | 97.7% |\n",
    "| (784,500,300,100,10) | 30 | 0.005 | 99.9% | 97.8% |\n",
    "| (784,100,500,10) | 10 | 0.05 | 97.8% | 96.7% |\n",
    "| (784,100,500,10) | 20 | 0.05 | 99.3%| 97.3% | \n",
    "| (784,100,50,10) | 10 | 0.05 | 97.38% | 96.5% |\n",
    "\n",
    "\n",
    "\n",
    "\n",
    "I prefer the Model with the following attributes (784,100,500,10)  10  0.05    97.8%   96.7%\n",
    "\n",
    "It does not seem to have such an immense overfit as the last one in the table, i.e. the gap between train and validation loss appears to be smaller.\n"
   ]
  }
 ],
 "metadata": {
  "kernelspec": {
   "display_name": "Python 3 (ipykernel)",
   "language": "python",
   "name": "python3"
  },
  "language_info": {
   "codemirror_mode": {
    "name": "ipython",
    "version": 3
   },
   "file_extension": ".py",
   "mimetype": "text/x-python",
   "name": "python",
   "nbconvert_exporter": "python",
   "pygments_lexer": "ipython3",
   "version": "3.8.12"
  }
 },
 "nbformat": 4,
 "nbformat_minor": 5
}
