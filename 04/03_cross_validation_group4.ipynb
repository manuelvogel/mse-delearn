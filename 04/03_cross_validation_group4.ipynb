{
 "cells": [
  {
   "cell_type": "markdown",
   "id": "73339fcd",
   "metadata": {},
   "source": [
    "# PW04 - Group 4\n",
    "* Florian Bär\n",
    "* Matthias Egli\n",
    "* Manuel Vogel\n",
    "* Adrian Willi"
   ]
  },
  {
   "cell_type": "code",
   "execution_count": 1,
   "id": "a31c6137-13df-484e-8b27-48ecdb388f4e",
   "metadata": {},
   "outputs": [],
   "source": [
    "import torch\n",
    "from torch.utils.data import DataLoader\n",
    "from torch.utils.data import SubsetRandomSampler\n",
    "from torchvision import datasets\n",
    "from torchvision.transforms import ToTensor\n",
    "from torchsummary import summary\n",
    "import numpy as np\n",
    "import matplotlib.pyplot as plt\n",
    "from sklearn.model_selection import KFold"
   ]
  },
  {
   "cell_type": "markdown",
   "id": "898da3f7-5704-4292-b656-62cb7e3bffe1",
   "metadata": {},
   "source": [
    "### Loading the Data"
   ]
  },
  {
   "cell_type": "code",
   "execution_count": 2,
   "id": "565fe12c-8ad4-43bb-b6a5-25aeb91ba3c7",
   "metadata": {},
   "outputs": [],
   "source": [
    "training_data = datasets.mnist.FashionMNIST(root=\"data\", train=True, download=True, transform=ToTensor())\n",
    "test_data = datasets.mnist.FashionMNIST(root=\"data\", train=False, download=True, transform=ToTensor())"
   ]
  },
  {
   "cell_type": "markdown",
   "id": "cab3eb4f-cdfa-4b85-a723-4762e70aa689",
   "metadata": {},
   "source": [
    "### Model"
   ]
  },
  {
   "cell_type": "code",
   "execution_count": 3,
   "id": "553da531-2d78-40f6-9cd4-9d5320588bfd",
   "metadata": {},
   "outputs": [],
   "source": [
    "# your favourite MLP model\n",
    "\n",
    "drop_p = 0\n",
    "complexity = 200\n",
    "nepochs = 100\n",
    "lr = 0.25\n",
    "\n",
    "\n",
    "def get_model():\n",
    "    return torch.nn.Sequential(\n",
    "        torch.nn.Flatten(),\n",
    "        torch.nn.Dropout(p=drop_p),\n",
    "        torch.nn.Linear(784, complexity),\n",
    "        torch.nn.Dropout(p=drop_p),\n",
    "        torch.nn.Sigmoid(),\n",
    "        torch.nn.Linear(complexity, 10)\n",
    "    )"
   ]
  },
  {
   "cell_type": "code",
   "execution_count": 4,
   "id": "a546f61f-3918-4b11-b31f-e6e22656293a",
   "metadata": {},
   "outputs": [
    {
     "name": "stdout",
     "output_type": "stream",
     "text": [
      "----------------------------------------------------------------\n",
      "        Layer (type)               Output Shape         Param #\n",
      "================================================================\n",
      "           Flatten-1                  [-1, 784]               0\n",
      "           Dropout-2                  [-1, 784]               0\n",
      "            Linear-3                  [-1, 200]         157,000\n",
      "           Dropout-4                  [-1, 200]               0\n",
      "           Sigmoid-5                  [-1, 200]               0\n",
      "            Linear-6                   [-1, 10]           2,010\n",
      "================================================================\n",
      "Total params: 159,010\n",
      "Trainable params: 159,010\n",
      "Non-trainable params: 0\n",
      "----------------------------------------------------------------\n",
      "Input size (MB): 0.00\n",
      "Forward/backward pass size (MB): 0.02\n",
      "Params size (MB): 0.61\n",
      "Estimated Total Size (MB): 0.63\n",
      "----------------------------------------------------------------\n"
     ]
    }
   ],
   "source": [
    "summary(get_model(), (1,28,28))"
   ]
  },
  {
   "cell_type": "markdown",
   "id": "f8572d96-38b4-4595-86ae-11c85f5f2083",
   "metadata": {},
   "source": [
    "### Train-Eval over a given number of epochs for a given train/validation loader (4+1 fold)"
   ]
  },
  {
   "cell_type": "code",
   "execution_count": 5,
   "id": "935c445a-2859-41b8-a5df-ebd6b78d8496",
   "metadata": {},
   "outputs": [],
   "source": [
    "def train_eval(nepochs, model, lr, trainloader, validloader, cost_fn):\n",
    "    cost_hist = []\n",
    "    cost_hist_test = []\n",
    "    acc_hist = []\n",
    "    acc_hist_test = []\n",
    "\n",
    "    optimizer = torch.optim.SGD(model.parameters(), lr=lr)\n",
    "        \n",
    "    for epoch in range(nepochs):\n",
    "\n",
    "        training_cost = 0\n",
    "        correct = 0\n",
    "        for inputs, targets in trainloader:\n",
    "            optimizer.zero_grad()\n",
    "            predictions = model(inputs)\n",
    "            cost = cost_fn(predictions, targets)\n",
    "            cost.backward()\n",
    "            optimizer.step()\n",
    "            training_cost += cost.item()\n",
    "            correct += (torch.argmax(predictions, dim=1) == targets).sum()\n",
    "        \n",
    "        cost = training_cost / len(trainloader.sampler)\n",
    "        acc = correct / len(trainloader.sampler)\n",
    "        \n",
    "        validation_cost = 0\n",
    "        correct = 0\n",
    "        for inputs, targets in validloader:\n",
    "            predictions = model(inputs)\n",
    "            cost = cost_fn(predictions, targets)\n",
    "            validation_cost += cost.item()\n",
    "            correct += (torch.argmax(predictions, dim=1) == targets).sum()\n",
    "        \n",
    "        cost_test = validation_cost / len(validloader.sampler)\n",
    "        acc_test = correct / len(validloader.sampler)\n",
    "        \n",
    "        \n",
    "        print(\"Epoch %i: %f, %f, %f, %f\"%(epoch, cost, acc, cost_test, acc_test))\n",
    "        cost_hist.append(cost)\n",
    "        cost_hist_test.append(cost_test)\n",
    "        acc_hist.append(acc)\n",
    "        acc_hist_test.append(acc_test)\n",
    "    return cost_hist, cost_hist_test, acc_hist, acc_hist_test"
   ]
  },
  {
   "cell_type": "markdown",
   "id": "b891cbe6-9b9d-486c-85fb-9462106e9511",
   "metadata": {},
   "source": [
    "### Split Training Data into folds\n",
    "\n",
    "Prepare specific loaders for the 4 training folds and the 1 validation fold\n",
    "\n",
    "Suggestions:\n",
    "* Use sklearns KFold functionality for spliiting into folds.\n",
    "* Use pytorchs subsamplers (torch.utils.data.SubsetRandomSampler) to construct training and validation loaders"
   ]
  },
  {
   "cell_type": "code",
   "execution_count": 6,
   "id": "a719296d-d9ce-4a77-8591-ac7dbf3b7416",
   "metadata": {},
   "outputs": [],
   "source": [
    "# Configuration options\n",
    "nfolds = 5\n",
    "nepochs = 20\n",
    "lr = 0.25\n",
    "batchsize = 64\n",
    "\n",
    "cost_fn = torch.nn.CrossEntropyLoss()\n",
    "results = {}\n",
    "\n",
    "kfold = KFold(n_splits=nfolds, shuffle=True, random_state=42)"
   ]
  },
  {
   "cell_type": "code",
   "execution_count": 7,
   "id": "12d5529f-870f-4178-9f7e-d1a9fdd332bb",
   "metadata": {},
   "outputs": [
    {
     "name": "stdout",
     "output_type": "stream",
     "text": [
      "FOLD 0\n",
      "--------------------------------\n",
      "Epoch 0: 0.662207, 0.725812, 0.008872, 0.783167\n",
      "Epoch 1: 0.419610, 0.822062, 0.007167, 0.833833\n",
      "Epoch 2: 0.262685, 0.839271, 0.006880, 0.842167\n",
      "Epoch 3: 0.434070, 0.849437, 0.006403, 0.851000\n",
      "Epoch 4: 0.589038, 0.855229, 0.006203, 0.856750\n",
      "Epoch 5: 0.332390, 0.861229, 0.006211, 0.854750\n",
      "Epoch 6: 0.628053, 0.864792, 0.007092, 0.826750\n",
      "Epoch 7: 0.363833, 0.869062, 0.005836, 0.863583\n",
      "Epoch 8: 0.409610, 0.872771, 0.005757, 0.866500\n",
      "Epoch 9: 0.553451, 0.874396, 0.005772, 0.867000\n",
      "Epoch 10: 0.481720, 0.877271, 0.005817, 0.865917\n",
      "Epoch 11: 0.239612, 0.879396, 0.005506, 0.871833\n",
      "Epoch 12: 0.368776, 0.881187, 0.005406, 0.876917\n",
      "Epoch 13: 0.466165, 0.883417, 0.005361, 0.878083\n",
      "Epoch 14: 0.253203, 0.886208, 0.005251, 0.877083\n",
      "Epoch 15: 0.217203, 0.887354, 0.005266, 0.879583\n",
      "Epoch 16: 0.288899, 0.888667, 0.005273, 0.879000\n",
      "Epoch 17: 0.522380, 0.891062, 0.005425, 0.874333\n",
      "Epoch 18: 0.209437, 0.893812, 0.005074, 0.883333\n",
      "Epoch 19: 0.150267, 0.894271, 0.005263, 0.878083\n",
      "FOLD 1\n",
      "--------------------------------\n",
      "Epoch 0: 0.537703, 0.723625, 0.008167, 0.815667\n",
      "Epoch 1: 0.427049, 0.821375, 0.006918, 0.843417\n",
      "Epoch 2: 0.438801, 0.837854, 0.006532, 0.853000\n",
      "Epoch 3: 0.247009, 0.847479, 0.006547, 0.852083\n",
      "Epoch 4: 0.626260, 0.854479, 0.006203, 0.858250\n",
      "Epoch 5: 0.490383, 0.859250, 0.006061, 0.865000\n",
      "Epoch 6: 0.397315, 0.865292, 0.006196, 0.859333\n",
      "Epoch 7: 0.130271, 0.867500, 0.005914, 0.866583\n",
      "Epoch 8: 0.697038, 0.872063, 0.005692, 0.874333\n",
      "Epoch 9: 0.453667, 0.874979, 0.005620, 0.871333\n",
      "Epoch 10: 0.449906, 0.876833, 0.005712, 0.871167\n",
      "Epoch 11: 0.548640, 0.880042, 0.005615, 0.871917\n",
      "Epoch 12: 0.496061, 0.881729, 0.005537, 0.874583\n",
      "Epoch 13: 0.277754, 0.884333, 0.005357, 0.877000\n",
      "Epoch 14: 0.530397, 0.886000, 0.005297, 0.880500\n",
      "Epoch 15: 0.659864, 0.887167, 0.005526, 0.873667\n",
      "Epoch 16: 0.512189, 0.888729, 0.005381, 0.879750\n",
      "Epoch 17: 0.295558, 0.889917, 0.005048, 0.884500\n",
      "Epoch 18: 0.193706, 0.893646, 0.005273, 0.877667\n",
      "Epoch 19: 0.295807, 0.893875, 0.005239, 0.880083\n",
      "FOLD 2\n",
      "--------------------------------\n",
      "Epoch 0: 0.602739, 0.728125, 0.008353, 0.811333\n",
      "Epoch 1: 0.571060, 0.822750, 0.007354, 0.830167\n",
      "Epoch 2: 0.321895, 0.838812, 0.006749, 0.844167\n",
      "Epoch 3: 0.732145, 0.848437, 0.006719, 0.844500\n",
      "Epoch 4: 0.663168, 0.855333, 0.006359, 0.851000\n",
      "Epoch 5: 0.414042, 0.861063, 0.006094, 0.860083\n",
      "Epoch 6: 0.548943, 0.863417, 0.006011, 0.860833\n",
      "Epoch 7: 0.295960, 0.868208, 0.006296, 0.852333\n",
      "Epoch 8: 0.353884, 0.870896, 0.005814, 0.866833\n",
      "Epoch 9: 0.177794, 0.874583, 0.005709, 0.869167\n",
      "Epoch 10: 0.385455, 0.876729, 0.005623, 0.872167\n",
      "Epoch 11: 0.504397, 0.879292, 0.005534, 0.870917\n",
      "Epoch 12: 0.258452, 0.881917, 0.005507, 0.872000\n",
      "Epoch 13: 0.279418, 0.884292, 0.005562, 0.869500\n",
      "Epoch 14: 0.132605, 0.886208, 0.005252, 0.880333\n",
      "Epoch 15: 0.326267, 0.887750, 0.005185, 0.881833\n",
      "Epoch 16: 0.235494, 0.888958, 0.005146, 0.881750\n",
      "Epoch 17: 0.405821, 0.891104, 0.005074, 0.883083\n",
      "Epoch 18: 0.238127, 0.893292, 0.005162, 0.881417\n",
      "Epoch 19: 0.270258, 0.894188, 0.005088, 0.880667\n",
      "FOLD 3\n",
      "--------------------------------\n",
      "Epoch 0: 0.814249, 0.726125, 0.008232, 0.808500\n",
      "Epoch 1: 0.327157, 0.822542, 0.007287, 0.830417\n",
      "Epoch 2: 0.267345, 0.838354, 0.006996, 0.837583\n",
      "Epoch 3: 0.323185, 0.847771, 0.006626, 0.847250\n",
      "Epoch 4: 0.581701, 0.854167, 0.006370, 0.851417\n",
      "Epoch 5: 0.340764, 0.861812, 0.006150, 0.858750\n",
      "Epoch 6: 0.490121, 0.866708, 0.005994, 0.861083\n",
      "Epoch 7: 0.394962, 0.868583, 0.005942, 0.862583\n",
      "Epoch 8: 0.341895, 0.872104, 0.005879, 0.866333\n",
      "Epoch 9: 0.574645, 0.875271, 0.005776, 0.870167\n",
      "Epoch 10: 0.439916, 0.877563, 0.005647, 0.871917\n",
      "Epoch 11: 0.109226, 0.879625, 0.005678, 0.871250\n",
      "Epoch 12: 0.198094, 0.882312, 0.005909, 0.870750\n",
      "Epoch 13: 0.189531, 0.885188, 0.005599, 0.871083\n",
      "Epoch 14: 0.351100, 0.885354, 0.005415, 0.873667\n",
      "Epoch 15: 0.359068, 0.887854, 0.005469, 0.874083\n",
      "Epoch 16: 0.294897, 0.889667, 0.005644, 0.866417\n",
      "Epoch 17: 0.390716, 0.891333, 0.005341, 0.876667\n",
      "Epoch 18: 0.648456, 0.892167, 0.005191, 0.880833\n",
      "Epoch 19: 0.183311, 0.895708, 0.005415, 0.879583\n",
      "FOLD 4\n",
      "--------------------------------\n",
      "Epoch 0: 0.501638, 0.726792, 0.008684, 0.798083\n",
      "Epoch 1: 0.483899, 0.822937, 0.007677, 0.825083\n",
      "Epoch 2: 0.466243, 0.838917, 0.007062, 0.839500\n",
      "Epoch 3: 0.689867, 0.848333, 0.006780, 0.843667\n",
      "Epoch 4: 0.735243, 0.854479, 0.006730, 0.843083\n",
      "Epoch 5: 0.497281, 0.860687, 0.006231, 0.857000\n",
      "Epoch 6: 0.607257, 0.865625, 0.006039, 0.864333\n",
      "Epoch 7: 0.308471, 0.869187, 0.006123, 0.857333\n",
      "Epoch 8: 0.442955, 0.871333, 0.005834, 0.865667\n",
      "Epoch 9: 0.592865, 0.877146, 0.005753, 0.865917\n",
      "Epoch 10: 0.407413, 0.877458, 0.005915, 0.862917\n",
      "Epoch 11: 0.172422, 0.880979, 0.005792, 0.868250\n",
      "Epoch 12: 0.355576, 0.883167, 0.005484, 0.871750\n",
      "Epoch 13: 0.253066, 0.883812, 0.005622, 0.869083\n",
      "Epoch 14: 0.324153, 0.885562, 0.005399, 0.878000\n",
      "Epoch 15: 0.283126, 0.886833, 0.005274, 0.877083\n",
      "Epoch 16: 0.287310, 0.889708, 0.005430, 0.874000\n",
      "Epoch 17: 0.602626, 0.893146, 0.005317, 0.877167\n",
      "Epoch 18: 0.276992, 0.892812, 0.005279, 0.879333\n",
      "Epoch 19: 0.583673, 0.895229, 0.005119, 0.880167\n"
     ]
    }
   ],
   "source": [
    "for fold, (train_ids, valid_ids) in enumerate(kfold.split(training_data)):\n",
    "\n",
    "    print(f'FOLD {fold}')\n",
    "    print('--------------------------------')\n",
    "    \n",
    "    model = get_model()\n",
    "    \n",
    "    train_sampler = SubsetRandomSampler(train_ids)\n",
    "    valid_sampler = SubsetRandomSampler(valid_ids)\n",
    "    \n",
    "    trainloader = DataLoader(training_data, batch_size=batchsize, sampler=train_sampler)\n",
    "    validloader = DataLoader(training_data, batch_size=batchsize, sampler=valid_sampler)\n",
    "    \n",
    "    results[fold] = train_eval(nepochs, model, lr, trainloader, validloader, cost_fn)"
   ]
  },
  {
   "cell_type": "markdown",
   "id": "3275d759-f9a9-42ac-93ae-049787404f0b",
   "metadata": {},
   "source": [
    "### Prepare output plots"
   ]
  },
  {
   "cell_type": "code",
   "execution_count": 8,
   "id": "5805a671-30c6-45bb-b250-f75062864164",
   "metadata": {},
   "outputs": [
    {
     "data": {
      "image/png": "[encoded data removed]",
      "text/plain": [
       "<Figure size 432x288 with 1 Axes>"
      ]
     },
     "metadata": {
      "needs_background": "light"
     },
     "output_type": "display_data"
    }
   ],
   "source": [
    "acc_hist_test_idx = 3\n",
    "plt.figure()\n",
    "for i in range(nfolds):\n",
    "    plt.plot(torch.arange(nepochs), results[i][acc_hist_test_idx], \"+\")\n",
    "plt.xlabel(\"Epoch\")\n",
    "plt.ylabel(\"Accuracy\")\n",
    "plt.title(\"Cross Validation\")\n",
    "plt.show()"
   ]
  }
 ],
 "metadata": {
  "kernelspec": {
   "display_name": "Python 3 (ipykernel)",
   "language": "python",
   "name": "python3"
  },
  "language_info": {
   "codemirror_mode": {
    "name": "ipython",
    "version": 3
   },
   "file_extension": ".py",
   "mimetype": "text/x-python",
   "name": "python",
   "nbconvert_exporter": "python",
   "pygments_lexer": "ipython3",
   "version": "3.8.12"
  }
 },
 "nbformat": 4,
 "nbformat_minor": 5
}
